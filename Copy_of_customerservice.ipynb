{
  "nbformat": 4,
  "nbformat_minor": 0,
  "metadata": {
    "colab": {
      "provenance": [],
      "authorship_tag": "ABX9TyNiMx816RmTFvoWXOq/lf73",
      "include_colab_link": true
    },
    "kernelspec": {
      "name": "python3",
      "display_name": "Python 3"
    },
    "language_info": {
      "name": "python"
    }
  },
  "cells": [
    {
      "cell_type": "markdown",
      "metadata": {
        "id": "view-in-github",
        "colab_type": "text"
      },
      "source": [
        "<a href=\"https://colab.research.google.com/github/Falakejaz786/customer-service/blob/main/Copy_of_customerservice.ipynb\" target=\"_parent\"><img src=\"https://colab.research.google.com/assets/colab-badge.svg\" alt=\"Open In Colab\"/></a>"
      ]
    },
    {
      "cell_type": "code",
      "source": [
        "!pip install -q ipywidgets\n",
        "\n",
        "import ipywidgets as widgets\n",
        "from IPython.display import display, clear_output\n",
        "import requests"
      ],
      "metadata": {
        "id": "i2ZlR-FaDNG7"
      },
      "execution_count": null,
      "outputs": []
    },
    {
      "cell_type": "code",
      "source": [
        "GROQ_API_KEY = input(\"🔑 Enter your Groq API key (starts with gsk-...): \")"
      ],
      "metadata": {
        "id": "CEcHe8CqEiRC"
      },
      "execution_count": null,
      "outputs": []
    },
    {
      "cell_type": "code",
      "source": [
        "user_id = input(\"👤 Enter user ID (e.g., user123): \")\n"
      ],
      "metadata": {
        "id": "8iY5vK_QEms0"
      },
      "execution_count": null,
      "outputs": []
    },
    {
      "cell_type": "code",
      "source": [
        "conversation_store = {}"
      ],
      "metadata": {
        "id": "dlTyvnVAFG8f"
      },
      "execution_count": null,
      "outputs": []
    },
    {
      "cell_type": "code",
      "source": [
        "conversation_store[user_id] = [\n",
        "    {\n",
        "        \"role\": \"system\",\n",
        "        \"content\": (\n",
        "            \"You are a helpful and polite customer support assistant for an e-commerce company. \"\n",
        "            \"Always provide clear, accurate, and friendly responses. Ask for an order ID if the user mentions an order, \"\n",
        "            \"help with product, return, refund, or delivery issues. Escalate to a human if you're unsure.\"\n",
        "        )\n",
        "    }\n",
        "]\n"
      ],
      "metadata": {
        "id": "SovS-AriEqop"
      },
      "execution_count": null,
      "outputs": []
    },
    {
      "cell_type": "code",
      "source": [
        "def get_ai_response(history):\n",
        "    url = \"https://api.groq.com/openai/v1/chat/completions\"\n",
        "    headers = {\n",
        "        \"Authorization\": f\"Bearer {GROQ_API_KEY}\",\n",
        "        \"Content-Type\": \"application/json\"\n",
        "    }\n",
        "    payload = {\n",
        "        \"model\": \"llama3-8b-8192\",  # or mixtral-8x7b-32768 if you want longer context\n",
        "        \"messages\": history\n",
        "    }\n",
        "\n",
        "    response = requests.post(url, headers=headers, json=payload)\n",
        "\n",
        "    try:\n",
        "        data = response.json()\n",
        "    except Exception:\n",
        "        return f\"❌ Invalid JSON response: {response.text}\"\n",
        "\n",
        "    if \"choices\" in data:\n",
        "        return data[\"choices\"][0][\"message\"][\"content\"]\n",
        "    elif \"error\" in data:\n",
        "        return f\"❌ API Error: {data['error']['message']}\"\n",
        "    else:\n",
        "        return f\"❌ Unexpected response: {data}\""
      ],
      "metadata": {
        "id": "a9BpA42TGP6L"
      },
      "execution_count": null,
      "outputs": []
    },
    {
      "cell_type": "code",
      "source": [
        "input_box = widgets.Text(placeholder='Type your message here...')\n",
        "output_area = widgets.Output()\n",
        "\n",
        "def on_message_submit(change):\n",
        "    user_message = input_box.value.strip()\n",
        "    input_box.value = \"\"\n",
        "\n",
        "    if not user_message:\n",
        "        return\n",
        "\n",
        "    # Add user message to conversation\n",
        "    conversation_store[user_id].append({\"role\": \"user\", \"content\": user_message})\n",
        "\n",
        "    # Display user message\n",
        "    with output_area:\n",
        "        print(f\"You: {user_message}\")\n",
        "\n",
        "        # Get AI response\n",
        "        ai_response = get_ai_response(conversation_store[user_id])\n",
        "        print(f\"AI: {ai_response}\")\n",
        "\n",
        "    # Add AI response to conversation history\n",
        "    conversation_store[user_id].append({\"role\": \"assistant\", \"content\": ai_response})\n",
        "\n",
        "input_box.on_submit(on_message_submit)"
      ],
      "metadata": {
        "id": "lXFASTu1GTVV"
      },
      "execution_count": null,
      "outputs": []
    },
    {
      "cell_type": "code",
      "source": [
        "display(input_box, output_area)"
      ],
      "metadata": {
        "id": "KPYREIDYGVDa"
      },
      "execution_count": null,
      "outputs": []
    }
  ]
}